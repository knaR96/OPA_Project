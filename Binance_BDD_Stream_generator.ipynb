{
 "cells": [
  {
   "cell_type": "code",
   "execution_count": null,
   "metadata": {},
   "outputs": [],
   "source": [
    "pip install websocket-client[test]"
   ]
  },
  {
   "cell_type": "code",
   "execution_count": null,
   "metadata": {},
   "outputs": [],
   "source": [
    "pip install rel"
   ]
  },
  {
   "cell_type": "code",
   "execution_count": null,
   "metadata": {},
   "outputs": [],
   "source": [
    "import websocket , json\n",
    "import rel\n",
    "import pandas as pd\n",
    "import sqlalchemy\n",
    "from binance.client import Client\n",
    "import time\n",
    "from datetime import datetime\n",
    "from dateutil.tz import tzutc, tzlocal"
   ]
  },
  {
   "cell_type": "raw",
   "metadata": {},
   "source": [
    "response example : \n",
    "{\n",
    "  \"e\": \"kline\",     // Event type\n",
    "  \"E\": 123456789,   // Event time\n",
    "  \"s\": \"BNBBTC\",    // Symbol\n",
    "  \"k\": {\n",
    "    \"t\": 123400000, // Kline start time\n",
    "    \"T\": 123460000, // Kline close time\n",
    "    \"s\": \"BNBBTC\",  // Symbol\n",
    "    \"i\": \"1m\",      // Interval\n",
    "    \"f\": 100,       // First trade ID\n",
    "    \"L\": 200,       // Last trade ID\n",
    "    \"o\": \"0.0010\",  // Open price\n",
    "    \"c\": \"0.0020\",  // Close price\n",
    "    \"h\": \"0.0025\",  // High price\n",
    "    \"l\": \"0.0015\",  // Low price\n",
    "    \"v\": \"1000\",    // Base asset volume ***\n",
    "    \"n\": 100,       // Number of trades --> à ajouter à la liste\n",
    "    \"x\": false,     // Is this kline closed?\n",
    "    \"q\": \"1.0000\",  // Quote asset volume\n",
    "    \"V\": \"500\",     // Taker buy base asset volume\n",
    "    \"Q\": \"0.500\",   // Taker buy quote asset volume\n",
    "    \"B\": \"123456\"   // Ignore\n",
    "  }\n",
    "}\n",
    "\n",
    "What is base volume and quote volume?\n",
    "# In a given market FOO/BAR, baseVolume indicates the total amount of FOO that has been bought and sold in this market in the past 24hrs, \n",
    "while quoteVolume is the total amount of BAR that has been bought and sold in this market in the past 24hrs. "
   ]
  },
  {
   "cell_type": "code",
   "execution_count": null,
   "metadata": {},
   "outputs": [],
   "source": []
  },
  {
   "cell_type": "code",
   "execution_count": null,
   "metadata": {},
   "outputs": [],
   "source": [
    "engine = sqlalchemy.create_engine('sqlite:///BinanceBDDStream.db')\n",
    "\n",
    "\n",
    "def on_message(ws, message):\n",
    "    json_message = json.loads(message)\n",
    "    df = pd.DataFrame([json_message[\"k\"]])\n",
    "    df =df[df['x'].astype(str) == 'True']\n",
    "    df =df.loc[:,['T','s','o','c','h','l','v','n']]\n",
    "    df.columns = [\"time\",\"symbol\",\"open\",\"close\",\"high\",\"low\",\"volume\",\"trade\"]\n",
    "    df.time =pd.to_datetime(df[\"time\"], unit='ms', utc = True).map(lambda x: x.tz_convert('Europe/Paris'))\n",
    "    df.close = df.close.astype(float)\n",
    "    df.high = df.high.astype(float)\n",
    "    df.low = df.low.astype(float)\n",
    "    df.volume = df.volume.astype(float)\n",
    "    df.trade = df.trade.astype(float)\n",
    "    df.to_sql('Crypto_streamdata', engine, if_exists='append', index=False)  \n",
    "def on_close(ws):\n",
    "    print(\"Connection closed\")"
   ]
  },
  {
   "cell_type": "code",
   "execution_count": null,
   "metadata": {},
   "outputs": [],
   "source": [
    "def binance_kline_stream_data(symbols = [], interval=\"1m\"): \n",
    "    for symbol in symbols :\n",
    "        socket = f'wss://stream.binance.com:9443/ws/{symbol}@kline_{interval}'\n",
    "        ws = websocket.WebSocketApp(socket, on_message=on_message,on_close=on_close)\n",
    "        ws.run_forever(dispatcher = rel, reconnect=60)\n",
    "    rel.signal(2, rel.abort)  # Keyboard Interrupt  \n",
    "    rel.dispatch()"
   ]
  },
  {
   "cell_type": "code",
   "execution_count": null,
   "metadata": {},
   "outputs": [],
   "source": [
    "exchange_info = Client().get_exchange_info()\n",
    "dic = exchange_info['symbols']\n",
    "symbols_list = []\n",
    "for element in range(len(dic)):\n",
    "    symbols_list.append(dic[element]['symbol'])\n",
    "pairusdtlist = [symbols_list[i].lower() for i in range(len(symbols_list)) if symbols_list[i].endswith('USDT')][:25]\n",
    "\n",
    "\n"
   ]
  },
  {
   "cell_type": "code",
   "execution_count": null,
   "metadata": {},
   "outputs": [],
   "source": [
    "binance_kline_stream_data(symbols=pairusdtlist, interval=\"1s\")"
   ]
  },
  {
   "cell_type": "code",
   "execution_count": null,
   "metadata": {},
   "outputs": [],
   "source": []
  },
  {
   "cell_type": "code",
   "execution_count": null,
   "metadata": {},
   "outputs": [],
   "source": []
  },
  {
   "cell_type": "code",
   "execution_count": null,
   "metadata": {},
   "outputs": [],
   "source": []
  }
 ],
 "metadata": {
  "kernelspec": {
   "display_name": "project-env",
   "language": "python",
   "name": "python3"
  },
  "language_info": {
   "codemirror_mode": {
    "name": "ipython",
    "version": 3
   },
   "file_extension": ".py",
   "mimetype": "text/x-python",
   "name": "python",
   "nbconvert_exporter": "python",
   "pygments_lexer": "ipython3",
   "version": "3.8.2"
  },
  "vscode": {
   "interpreter": {
    "hash": "952c27ed99eba55f4c21cdb29333949a64989f79d9a96fa3ba0bb74c01565d25"
   }
  }
 },
 "nbformat": 4,
 "nbformat_minor": 4
}
