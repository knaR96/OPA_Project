{
 "cells": [
  {
   "attachments": {},
   "cell_type": "markdown",
   "metadata": {},
   "source": [
    "# Package installation"
   ]
  },
  {
   "cell_type": "code",
   "execution_count": null,
   "metadata": {},
   "outputs": [],
   "source": [
    "!pip3 install binance-connector\n",
    "!pip3 install ccxt\n",
    "!pip3 install python-binance\n",
    "!pip3 install ta"
   ]
  },
  {
   "attachments": {},
   "cell_type": "markdown",
   "metadata": {},
   "source": [
    "# Import, define Client and download data"
   ]
  },
  {
   "cell_type": "code",
   "execution_count": 2,
   "metadata": {},
   "outputs": [],
   "source": [
    "from binance.client import Client\n",
    "import pandas as pd\n",
    "import os\n",
    "import ccxt\n",
    "import time\n",
    "import datetime\n",
    "import ta   # permet de definir tous les indicateurs qui existent \n"
   ]
  },
  {
   "cell_type": "code",
   "execution_count": 3,
   "metadata": {},
   "outputs": [],
   "source": [
    "Hist_data= Client().get_historical_klines(\"BTCUSDT\", Client.KLINE_INTERVAL_1DAY, \"01 january 2017\")\n",
    "\n",
    "df = pd.DataFrame(Hist_data, columns=['timestamp', 'open', 'high', 'low', 'close', 'volume', 'close_time', 'quote-av', 'trades', 'tb_base-av', 'tb_quote_av', 'ignore'])"
   ]
  },
  {
   "cell_type": "code",
   "execution_count": 4,
   "metadata": {},
   "outputs": [
    {
     "name": "stdout",
     "output_type": "stream",
     "text": [
      "          timestamp            open            high             low  \\\n",
      "0     1502928000000   4261.48000000   4485.39000000   4200.74000000   \n",
      "1     1503014400000   4285.08000000   4371.52000000   3938.77000000   \n",
      "2     1503100800000   4108.37000000   4184.69000000   3850.00000000   \n",
      "3     1503187200000   4120.98000000   4211.08000000   4032.62000000   \n",
      "4     1503273600000   4069.13000000   4119.62000000   3911.79000000   \n",
      "...             ...             ...             ...             ...   \n",
      "1978  1673827200000  20872.99000000  21474.05000000  20611.48000000   \n",
      "1979  1673913600000  21185.65000000  21647.45000000  20841.31000000   \n",
      "1980  1674000000000  21132.29000000  21650.00000000  20407.15000000   \n",
      "1981  1674086400000  20677.47000000  21192.00000000  20659.19000000   \n",
      "1982  1674172800000  21071.59000000  21299.99000000  20861.28000000   \n",
      "\n",
      "               close           volume     close_time             quote-av  \\\n",
      "0      4285.08000000     795.15037700  1503014399999     3454770.05073206   \n",
      "1      4108.37000000    1199.88826400  1503100799999     5086958.30617151   \n",
      "2      4139.98000000     381.30976300  1503187199999     1549483.73542151   \n",
      "3      4086.29000000     467.08302200  1503273599999     1930364.39032646   \n",
      "4      4016.00000000     691.74306000  1503359999999     2797231.71402728   \n",
      "...              ...              ...            ...                  ...   \n",
      "1978  21185.65000000  293078.08262000  1673913599999  6168654053.04263760   \n",
      "1979  21134.81000000  275407.74409000  1673999999999  5840585769.49009330   \n",
      "1980  20677.47000000  350916.01949000  1674086399999  7399719195.24672580   \n",
      "1981  21071.59000000  251385.84925000  1674172799999  5243024330.01120060   \n",
      "1982  21291.52000000  182407.30710000  1674259199999  3840815302.67787100   \n",
      "\n",
      "       trades       tb_base-av          tb_quote_av ignore  \n",
      "0        3427     616.24854100     2678216.40060401      0  \n",
      "1        5233     972.86871000     4129123.31651808      0  \n",
      "2        2153     274.33604200     1118001.87008735      0  \n",
      "3        2321     376.79594700     1557401.33373730      0  \n",
      "4        3972     557.35610700     2255662.55315837      0  \n",
      "...       ...              ...                  ...    ...  \n",
      "1978  6856434  145352.66942000  3059597458.38535250      0  \n",
      "1979  6440138  137121.64311000  2908227174.24903050      0  \n",
      "1980  7617173  173174.41690000  3652037808.31621500      0  \n",
      "1981  5819932  124924.23436000  2605629874.08902800      0  \n",
      "1982  4281514   90845.64174000  1912992926.80179310      0  \n",
      "\n",
      "[1983 rows x 12 columns]\n"
     ]
    }
   ],
   "source": [
    "print(df)"
   ]
  },
  {
   "attachments": {},
   "cell_type": "markdown",
   "metadata": {},
   "source": [
    "# Clean Dataset"
   ]
  },
  {
   "cell_type": "code",
   "execution_count": 5,
   "metadata": {},
   "outputs": [],
   "source": [
    "del df['close_time']\n",
    "del df['quote-av']\n",
    "\n",
    "del df['tb_base-av']\n",
    "del df['tb_quote_av']\n",
    "del df['ignore']\n",
    "\n",
    "df['close'] = pd.to_numeric(df['close'])\n",
    "df['high'] = pd.to_numeric(df['high'])\n",
    "df['low'] = pd.to_numeric(df['low'])\n",
    "df['open'] = pd.to_numeric(df['open'])\n",
    "df['timestamp'] = pd.to_datetime(df['timestamp'], unit='ms')\n"
   ]
  },
  {
   "cell_type": "code",
   "execution_count": 6,
   "metadata": {},
   "outputs": [
    {
     "name": "stdout",
     "output_type": "stream",
     "text": [
      "      timestamp      open      high       low     close           volume  \\\n",
      "0    2017-08-17   4261.48   4485.39   4200.74   4285.08     795.15037700   \n",
      "1    2017-08-18   4285.08   4371.52   3938.77   4108.37    1199.88826400   \n",
      "2    2017-08-19   4108.37   4184.69   3850.00   4139.98     381.30976300   \n",
      "3    2017-08-20   4120.98   4211.08   4032.62   4086.29     467.08302200   \n",
      "4    2017-08-21   4069.13   4119.62   3911.79   4016.00     691.74306000   \n",
      "...         ...       ...       ...       ...       ...              ...   \n",
      "1978 2023-01-16  20872.99  21474.05  20611.48  21185.65  293078.08262000   \n",
      "1979 2023-01-17  21185.65  21647.45  20841.31  21134.81  275407.74409000   \n",
      "1980 2023-01-18  21132.29  21650.00  20407.15  20677.47  350916.01949000   \n",
      "1981 2023-01-19  20677.47  21192.00  20659.19  21071.59  251385.84925000   \n",
      "1982 2023-01-20  21071.59  21299.99  20861.28  21291.52  182407.30710000   \n",
      "\n",
      "       trades  \n",
      "0        3427  \n",
      "1        5233  \n",
      "2        2153  \n",
      "3        2321  \n",
      "4        3972  \n",
      "...       ...  \n",
      "1978  6856434  \n",
      "1979  6440138  \n",
      "1980  7617173  \n",
      "1981  5819932  \n",
      "1982  4281514  \n",
      "\n",
      "[1983 rows x 7 columns]\n"
     ]
    }
   ],
   "source": [
    "print(df)"
   ]
  },
  {
   "cell_type": "code",
   "execution_count": null,
   "metadata": {},
   "outputs": [],
   "source": [
    "path = \"/Users/MelissaT/Documents/datascientest/Cours datascientest/Projet-fil_rouge/\" \n",
    "for symbol in df['Symbols']:\n",
    "    data = df\n",
    "    filename = path + symbol + '.json'\n",
    "    data.to_json(filename)        # ça fonctionne pas encore,  je travaillerai sur ça ce week-end "
   ]
  }
 ],
 "metadata": {
  "kernelspec": {
   "display_name": "base",
   "language": "python",
   "name": "python3"
  },
  "language_info": {
   "codemirror_mode": {
    "name": "ipython",
    "version": 3
   },
   "file_extension": ".py",
   "mimetype": "text/x-python",
   "name": "python",
   "nbconvert_exporter": "python",
   "pygments_lexer": "ipython3",
   "version": "3.7.10"
  },
  "orig_nbformat": 4,
  "vscode": {
   "interpreter": {
    "hash": "40d3a090f54c6569ab1632332b64b2c03c39dcf918b08424e98f38b5ae0af88f"
   }
  }
 },
 "nbformat": 4,
 "nbformat_minor": 2
}
