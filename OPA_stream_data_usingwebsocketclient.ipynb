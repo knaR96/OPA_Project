{
 "cells": [
  {
   "cell_type": "code",
   "execution_count": 1,
   "metadata": {},
   "outputs": [],
   "source": [
    "# Donnees stream via websocket"
   ]
  },
  {
   "cell_type": "code",
   "execution_count": 1,
   "metadata": {},
   "outputs": [
    {
     "name": "stdout",
     "output_type": "stream",
     "text": [
      "Requirement already satisfied: websocket-client[test] in c:\\users\\kevin\\anaconda3\\lib\\site-packages (1.4.2)\n",
      "Requirement already satisfied: websockets; extra == \"test\" in c:\\users\\kevin\\anaconda3\\lib\\site-packages (from websocket-client[test]) (10.4)\n",
      "Note: you may need to restart the kernel to use updated packages.\n"
     ]
    }
   ],
   "source": [
    "pip install websocket-client[test]"
   ]
  },
  {
   "cell_type": "code",
   "execution_count": 2,
   "metadata": {},
   "outputs": [
    {
     "name": "stdout",
     "output_type": "stream",
     "text": [
      "Name: websocket-client\n",
      "Version: 1.4.2\n",
      "Summary: WebSocket client for Python with low level API options\n",
      "Home-page: https://github.com/websocket-client/websocket-client.git\n",
      "Author: liris\n",
      "Author-email: liris.pp@gmail.com\n",
      "License: Apache-2.0\n",
      "Location: c:\\users\\kevin\\anaconda3\\lib\\site-packages\n",
      "Requires: \n",
      "Required-by: \n",
      "Note: you may need to restart the kernel to use updated packages.\n"
     ]
    }
   ],
   "source": [
    "pip show websocket-client"
   ]
  },
  {
   "cell_type": "code",
   "execution_count": 2,
   "metadata": {},
   "outputs": [],
   "source": [
    "import websocket , json"
   ]
  },
  {
   "cell_type": "raw",
   "metadata": {},
   "source": [
    "response example : \n",
    "{\n",
    "  \"e\": \"kline\",     // Event type\n",
    "  \"E\": 123456789,   // Event time\n",
    "  \"s\": \"BNBBTC\",    // Symbol\n",
    "  \"k\": {\n",
    "    \"t\": 123400000, // Kline start time\n",
    "    \"T\": 123460000, // Kline close time\n",
    "    \"s\": \"BNBBTC\",  // Symbol\n",
    "    \"i\": \"1m\",      // Interval\n",
    "    \"f\": 100,       // First trade ID\n",
    "    \"L\": 200,       // Last trade ID\n",
    "    \"o\": \"0.0010\",  // Open price\n",
    "    \"c\": \"0.0020\",  // Close price\n",
    "    \"h\": \"0.0025\",  // High price\n",
    "    \"l\": \"0.0015\",  // Low price\n",
    "    \"v\": \"1000\",    // Base asset volume ***\n",
    "    \"n\": 100,       // Number of trades --> à ajouter à la liste\n",
    "    \"x\": false,     // Is this kline closed?\n",
    "    \"q\": \"1.0000\",  // Quote asset volume\n",
    "    \"V\": \"500\",     // Taker buy base asset volume\n",
    "    \"Q\": \"0.500\",   // Taker buy quote asset volume\n",
    "    \"B\": \"123456\"   // Ignore\n",
    "  }\n",
    "}\n",
    "\n",
    "What is base volume and quote volume?\n",
    "# In a given market FOO/BAR, baseVolume indicates the total amount of FOO that has been bought and sold in this market in the past 24hrs, \n",
    "while quoteVolume is the total amount of BAR that has been bought and sold in this market in the past 24hrs. "
   ]
  },
  {
   "cell_type": "code",
   "execution_count": 3,
   "metadata": {},
   "outputs": [],
   "source": [
    "closes,highs,lows,volumes,trades = [],[],[],[],[]\n",
    "candles = {}\n",
    "def on_message(ws, message):\n",
    "    json_message = json.loads(message)\n",
    "    candle = json_message[\"k\"]\n",
    "    is_candle_closed = candle[\"x\"]\n",
    "    close =candle[\"c\"]\n",
    "    high = candle[\"h\"]\n",
    "    low =candle[\"l\"]\n",
    "    volume = candle[\"v\"]\n",
    "    trade = candle[\"n\"]\n",
    "    symbol = candle[\"s\"]\n",
    "    \n",
    "    if is_candle_closed : \n",
    "        closes.append(close)\n",
    "        highs.append(high)\n",
    "        lows.append(low)\n",
    "        volumes.append(volume)\n",
    "        trades.append(trade)\n",
    "        candles[symbol]=[closes,highs,lows,volumes,trades]\n",
    "        print(candles)\n",
    "        \n",
    "def on_close(ws):\n",
    "    print(\"Connection closed\")"
   ]
  },
  {
   "cell_type": "code",
   "execution_count": 4,
   "metadata": {},
   "outputs": [],
   "source": [
    "#ws.run_forever()"
   ]
  },
  {
   "cell_type": "code",
   "execution_count": null,
   "metadata": {},
   "outputs": [
    {
     "name": "stdout",
     "output_type": "stream",
     "text": [
      "{'ETHUSDT': [['1582.68000000'], ['1587.00000000'], ['1582.68000000'], ['845.03300000'], [1453]]}\n",
      "{'ETHUSDT': [['1582.68000000', '1584.99000000'], ['1587.00000000', '1585.11000000'], ['1582.68000000', '1581.50000000'], ['845.03300000', '768.08900000'], [1453, 1414]]}\n",
      "{'ETHUSDT': [['1582.68000000', '1584.99000000', '1586.78000000'], ['1587.00000000', '1585.11000000', '1587.54000000'], ['1582.68000000', '1581.50000000', '1584.43000000'], ['845.03300000', '768.08900000', '631.11470000'], [1453, 1414, 1184]]}\n",
      "{'ETHUSDT': [['1582.68000000', '1584.99000000', '1586.78000000', '1586.54000000'], ['1587.00000000', '1585.11000000', '1587.54000000', '1588.88000000'], ['1582.68000000', '1581.50000000', '1584.43000000', '1584.92000000'], ['845.03300000', '768.08900000', '631.11470000', '916.39160000'], [1453, 1414, 1184, 1853]]}\n",
      "{'ETHUSDT': [['1582.68000000', '1584.99000000', '1586.78000000', '1586.54000000', '1587.31000000'], ['1587.00000000', '1585.11000000', '1587.54000000', '1588.88000000', '1589.96000000'], ['1582.68000000', '1581.50000000', '1584.43000000', '1584.92000000', '1586.53000000'], ['845.03300000', '768.08900000', '631.11470000', '916.39160000', '577.26420000'], [1453, 1414, 1184, 1853, 1423]]}\n",
      "{'ETHUSDT': [['1582.68000000', '1584.99000000', '1586.78000000', '1586.54000000', '1587.31000000', '1585.39000000'], ['1587.00000000', '1585.11000000', '1587.54000000', '1588.88000000', '1589.96000000', '1587.31000000'], ['1582.68000000', '1581.50000000', '1584.43000000', '1584.92000000', '1586.53000000', '1585.03000000'], ['845.03300000', '768.08900000', '631.11470000', '916.39160000', '577.26420000', '344.18920000'], [1453, 1414, 1184, 1853, 1423, 822]]}\n",
      "{'ETHUSDT': [['1582.68000000', '1584.99000000', '1586.78000000', '1586.54000000', '1587.31000000', '1585.39000000', '1589.50000000'], ['1587.00000000', '1585.11000000', '1587.54000000', '1588.88000000', '1589.96000000', '1587.31000000', '1589.75000000'], ['1582.68000000', '1581.50000000', '1584.43000000', '1584.92000000', '1586.53000000', '1585.03000000', '1585.00000000'], ['845.03300000', '768.08900000', '631.11470000', '916.39160000', '577.26420000', '344.18920000', '572.30800000'], [1453, 1414, 1184, 1853, 1423, 822, 1007]]}\n",
      "{'ETHUSDT': [['1582.68000000', '1584.99000000', '1586.78000000', '1586.54000000', '1587.31000000', '1585.39000000', '1589.50000000', '1589.38000000'], ['1587.00000000', '1585.11000000', '1587.54000000', '1588.88000000', '1589.96000000', '1587.31000000', '1589.75000000', '1592.00000000'], ['1582.68000000', '1581.50000000', '1584.43000000', '1584.92000000', '1586.53000000', '1585.03000000', '1585.00000000', '1588.50000000'], ['845.03300000', '768.08900000', '631.11470000', '916.39160000', '577.26420000', '344.18920000', '572.30800000', '1540.57410000'], [1453, 1414, 1184, 1853, 1423, 822, 1007, 2505]]}\n",
      "{'ETHUSDT': [['1582.68000000', '1584.99000000', '1586.78000000', '1586.54000000', '1587.31000000', '1585.39000000', '1589.50000000', '1589.38000000', '1591.09000000'], ['1587.00000000', '1585.11000000', '1587.54000000', '1588.88000000', '1589.96000000', '1587.31000000', '1589.75000000', '1592.00000000', '1592.70000000'], ['1582.68000000', '1581.50000000', '1584.43000000', '1584.92000000', '1586.53000000', '1585.03000000', '1585.00000000', '1588.50000000', '1589.19000000'], ['845.03300000', '768.08900000', '631.11470000', '916.39160000', '577.26420000', '344.18920000', '572.30800000', '1540.57410000', '809.93370000'], [1453, 1414, 1184, 1853, 1423, 822, 1007, 2505, 1755]]}\n",
      "{'ETHUSDT': [['1582.68000000', '1584.99000000', '1586.78000000', '1586.54000000', '1587.31000000', '1585.39000000', '1589.50000000', '1589.38000000', '1591.09000000', '1589.98000000'], ['1587.00000000', '1585.11000000', '1587.54000000', '1588.88000000', '1589.96000000', '1587.31000000', '1589.75000000', '1592.00000000', '1592.70000000', '1593.38000000'], ['1582.68000000', '1581.50000000', '1584.43000000', '1584.92000000', '1586.53000000', '1585.03000000', '1585.00000000', '1588.50000000', '1589.19000000', '1589.88000000'], ['845.03300000', '768.08900000', '631.11470000', '916.39160000', '577.26420000', '344.18920000', '572.30800000', '1540.57410000', '809.93370000', '786.45480000'], [1453, 1414, 1184, 1853, 1423, 822, 1007, 2505, 1755, 1458]]}\n",
      "{'ETHUSDT': [['1582.68000000', '1584.99000000', '1586.78000000', '1586.54000000', '1587.31000000', '1585.39000000', '1589.50000000', '1589.38000000', '1591.09000000', '1589.98000000', '1588.66000000'], ['1587.00000000', '1585.11000000', '1587.54000000', '1588.88000000', '1589.96000000', '1587.31000000', '1589.75000000', '1592.00000000', '1592.70000000', '1593.38000000', '1590.84000000'], ['1582.68000000', '1581.50000000', '1584.43000000', '1584.92000000', '1586.53000000', '1585.03000000', '1585.00000000', '1588.50000000', '1589.19000000', '1589.88000000', '1587.65000000'], ['845.03300000', '768.08900000', '631.11470000', '916.39160000', '577.26420000', '344.18920000', '572.30800000', '1540.57410000', '809.93370000', '786.45480000', '760.93850000'], [1453, 1414, 1184, 1853, 1423, 822, 1007, 2505, 1755, 1458, 1319]]}\n",
      "{'ETHUSDT': [['1582.68000000', '1584.99000000', '1586.78000000', '1586.54000000', '1587.31000000', '1585.39000000', '1589.50000000', '1589.38000000', '1591.09000000', '1589.98000000', '1588.66000000', '1587.14000000'], ['1587.00000000', '1585.11000000', '1587.54000000', '1588.88000000', '1589.96000000', '1587.31000000', '1589.75000000', '1592.00000000', '1592.70000000', '1593.38000000', '1590.84000000', '1588.77000000'], ['1582.68000000', '1581.50000000', '1584.43000000', '1584.92000000', '1586.53000000', '1585.03000000', '1585.00000000', '1588.50000000', '1589.19000000', '1589.88000000', '1587.65000000', '1586.35000000'], ['845.03300000', '768.08900000', '631.11470000', '916.39160000', '577.26420000', '344.18920000', '572.30800000', '1540.57410000', '809.93370000', '786.45480000', '760.93850000', '373.35490000'], [1453, 1414, 1184, 1853, 1423, 822, 1007, 2505, 1755, 1458, 1319, 961]]}\n",
      "{'ETHUSDT': [['1582.68000000', '1584.99000000', '1586.78000000', '1586.54000000', '1587.31000000', '1585.39000000', '1589.50000000', '1589.38000000', '1591.09000000', '1589.98000000', '1588.66000000', '1587.14000000', '1586.94000000'], ['1587.00000000', '1585.11000000', '1587.54000000', '1588.88000000', '1589.96000000', '1587.31000000', '1589.75000000', '1592.00000000', '1592.70000000', '1593.38000000', '1590.84000000', '1588.77000000', '1588.68000000'], ['1582.68000000', '1581.50000000', '1584.43000000', '1584.92000000', '1586.53000000', '1585.03000000', '1585.00000000', '1588.50000000', '1589.19000000', '1589.88000000', '1587.65000000', '1586.35000000', '1586.46000000'], ['845.03300000', '768.08900000', '631.11470000', '916.39160000', '577.26420000', '344.18920000', '572.30800000', '1540.57410000', '809.93370000', '786.45480000', '760.93850000', '373.35490000', '457.47380000'], [1453, 1414, 1184, 1853, 1423, 822, 1007, 2505, 1755, 1458, 1319, 961, 871]]}\n"
     ]
    }
   ],
   "source": [
    "intervale = '1m'\n",
    "symbol = 'ethusdt'\n",
    "socket = f'wss://stream.binance.com:9443/ws/{symbol}@kline_{intervale}'\n",
    "ws = websocket.WebSocketApp(socket, on_message=on_message,on_close=on_close)\n",
    "ws.run_forever()"
   ]
  },
  {
   "cell_type": "markdown",
   "metadata": {},
   "source": [
    "# import des données historiques  dans une base de données SQL"
   ]
  },
  {
   "cell_type": "code",
   "execution_count": 8,
   "metadata": {},
   "outputs": [],
   "source": [
    "import sqlite3, sqlalchemy\n",
    "from sqlalchemy import Table, Column, Integer, String, ForeignKey, MetaData, create_engine, text, inspect\n",
    "from IPython.display import Markdown, display\n"
   ]
  },
  {
   "cell_type": "code",
   "execution_count": 9,
   "metadata": {},
   "outputs": [],
   "source": [
    "engine = create_engine(\"sqlite:///opa_projet_data.db\", echo = True) #création de la base de donnée opa_projet_data.db\n",
    "meta = MetaData() #Instancier un objet de la classe MetaData"
   ]
  },
  {
   "cell_type": "code",
   "execution_count": 10,
   "metadata": {},
   "outputs": [
    {
     "name": "stdout",
     "output_type": "stream",
     "text": [
      "2023-01-20 17:28:06,292 INFO sqlalchemy.engine.base.Engine SELECT CAST('test plain returns' AS VARCHAR(60)) AS anon_1\n",
      "2023-01-20 17:28:06,292 INFO sqlalchemy.engine.base.Engine ()\n",
      "2023-01-20 17:28:06,294 INFO sqlalchemy.engine.base.Engine SELECT CAST('test unicode returns' AS VARCHAR(60)) AS anon_1\n",
      "2023-01-20 17:28:06,295 INFO sqlalchemy.engine.base.Engine ()\n",
      "2023-01-20 17:28:06,297 INFO sqlalchemy.engine.base.Engine PRAGMA main.table_info(\"candles\")\n",
      "2023-01-20 17:28:06,298 INFO sqlalchemy.engine.base.Engine ()\n"
     ]
    }
   ],
   "source": [
    "candles = Table(\n",
    "'candles', meta,\n",
    "    Column(\"candle_id\", Integer, primary_key=True),\n",
    "    Column(\"closes\", String),\n",
    "    Column(\"highs\", String), \n",
    "    Column(\"lows\", String), \n",
    "    Column(\"volumes\", String),\n",
    ")\n",
    "\n",
    "meta.create_all(engine)"
   ]
  },
  {
   "cell_type": "code",
   "execution_count": 11,
   "metadata": {},
   "outputs": [],
   "source": [
    "a =[1]\n",
    "b =[]\n",
    "c =[]"
   ]
  },
  {
   "cell_type": "code",
   "execution_count": 12,
   "metadata": {},
   "outputs": [
    {
     "data": {
      "text/plain": [
       "{'test1': [[1, 1], []]}"
      ]
     },
     "execution_count": 12,
     "metadata": {},
     "output_type": "execute_result"
    }
   ],
   "source": [
    "dic = {\"test1\":[a,b]}\n",
    "dic[\"test1\"][0].append(1)\n",
    "dic"
   ]
  },
  {
   "cell_type": "code",
   "execution_count": null,
   "metadata": {},
   "outputs": [],
   "source": []
  }
 ],
 "metadata": {
  "kernelspec": {
   "display_name": "Python 3",
   "language": "python",
   "name": "python3"
  },
  "language_info": {
   "codemirror_mode": {
    "name": "ipython",
    "version": 3
   },
   "file_extension": ".py",
   "mimetype": "text/x-python",
   "name": "python",
   "nbconvert_exporter": "python",
   "pygments_lexer": "ipython3",
   "version": "3.7.6"
  }
 },
 "nbformat": 4,
 "nbformat_minor": 4
}
